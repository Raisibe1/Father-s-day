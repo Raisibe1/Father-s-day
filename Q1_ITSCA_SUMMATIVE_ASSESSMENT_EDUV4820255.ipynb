{
  "nbformat": 4,
  "nbformat_minor": 0,
  "metadata": {
    "colab": {
      "provenance": [],
      "authorship_tag": "ABX9TyOPPCHgsb31ba//kr365C0J",
      "include_colab_link": true
    },
    "kernelspec": {
      "name": "python3",
      "display_name": "Python 3"
    },
    "language_info": {
      "name": "python"
    }
  },
  "cells": [
    {
      "cell_type": "markdown",
      "metadata": {
        "id": "view-in-github",
        "colab_type": "text"
      },
      "source": [
        "<a href=\"https://colab.research.google.com/github/Raisibe1/Father-s-day/blob/main/Q1_ITSCA_SUMMATIVE_ASSESSMENT_EDUV4820255.ipynb\" target=\"_parent\"><img src=\"https://colab.research.google.com/assets/colab-badge.svg\" alt=\"Open In Colab\"/></a>"
      ]
    },
    {
      "cell_type": "code",
      "execution_count": null,
      "metadata": {
        "id": "MPT33ydv7xoj"
      },
      "outputs": [],
      "source": [
        "# 1.1.1\n",
        "def evaluate_f(x, y):\n",
        "\n",
        "    return ((9 * x**3) / 2) + ((4 * y**3) / (3 * x**2)) - (y**2)\n",
        "\n",
        "# 1.1.2\n",
        "def evaluate_n(k, m):\n",
        "\n",
        "    return -3 / (k**2) + (4 * m**3) / 21\n",
        "\n",
        "# 1.2.\n",
        "def sequence_x(i, x0=6):\n",
        "  if i ==0:\n",
        "    return x0\n",
        "  else:\n",
        "    return (9* sequence_x(i-1, x0))/2"
      ]
    }
  ]
}